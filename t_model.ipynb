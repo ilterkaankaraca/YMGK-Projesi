{
  "nbformat": 4,
  "nbformat_minor": 0,
  "metadata": {
    "colab": {
      "name": "t_model.ipynb",
      "provenance": [],
      "mount_file_id": "1rMBsNBbsoWz0XgpeB_mMAaId9P5Ww-R1",
      "authorship_tag": "ABX9TyPpx1YqnMUQQKcIFMWsNhHM"
    },
    "kernelspec": {
      "name": "python3",
      "display_name": "Python 3"
    },
    "accelerator": "GPU"
  },
  "cells": [
    {
      "cell_type": "code",
      "metadata": {
        "id": "lj1WbwNTF9xK",
        "colab_type": "code",
        "outputId": "710c108a-2b93-4181-c79a-ce6b554a2ad5",
        "colab": {
          "base_uri": "https://localhost:8080/",
          "height": 52
        }
      },
      "source": [
        "import numpy as np\n",
        "import pandas as pd \n",
        "import matplotlib.pyplot as plt\n",
        "from sklearn.preprocessing  import LabelEncoder\n",
        "from sklearn.preprocessing  import StandardScaler\n",
        "from sklearn.model_selection import train_test_split\n",
        "from tensorflow.keras.utils import plot_model\n",
        "from tensorflow.keras.utils import to_categorical\n",
        "from tensorflow.keras.models import Sequential\n",
        "from tensorflow.keras.layers import Dense,LSTM,Activation,BatchNormalization,Dropout,Flatten\n",
        "from keras.wrappers.scikit_learn import KerasClassifier\n",
        "from sklearn.metrics import roc_curve\n",
        "from matplotlib import pyplot as plt\n",
        "from google.colab import drive \n",
        "drive.mount('/content/drive')"
      ],
      "execution_count": 2,
      "outputs": [
        {
          "output_type": "stream",
          "text": [
            "Drive already mounted at /content/drive; to attempt to forcibly remount, call drive.mount(\"/content/drive\", force_remount=True).\n"
          ],
          "name": "stdout"
        },
        {
          "output_type": "stream",
          "text": [
            "Using TensorFlow backend.\n"
          ],
          "name": "stderr"
        }
      ]
    },
    {
      "cell_type": "code",
      "metadata": {
        "id": "uX4sZu8nGUdh",
        "colab_type": "code",
        "colab": {}
      },
      "source": [
        "df=pd.read_csv(\"/content/drive/My Drive/data/ymgk/veri_seti.csv\", encoding = 'utf8')"
      ],
      "execution_count": 0,
      "outputs": []
    },
    {
      "cell_type": "markdown",
      "metadata": {
        "id": "ZG7O9kr3HFnC",
        "colab_type": "text"
      },
      "source": [
        ""
      ]
    },
    {
      "cell_type": "code",
      "metadata": {
        "id": "EO2KLiVqHIUl",
        "colab_type": "code",
        "colab": {}
      },
      "source": [
        "le = LabelEncoder()\n",
        "df[\"Gece/Gunduz\"]=le.fit_transform(df[\"Gece/Gunduz\"])\n",
        "df[\"Haftasonu/Haftaici\"]=le.fit_transform(df[\"Haftasonu/Haftaici\"])\n",
        "df[\"Mevsim\"]=le.fit_transform(df[\"Mevsim\"])\n",
        "labels=LabelEncoder().fit_transform(df[\"IstasyonTipi\"])\n",
        "y = labels\n",
        "x = df.drop([\"IstasyonTipi\"], axis=1)\n",
        "classes=list(le.fit(df[\"IstasyonTipi\"]).classes_)\n",
        "nb_classes= len(classes)\n",
        "nb_features = x.shape[1]"
      ],
      "execution_count": 0,
      "outputs": []
    },
    {
      "cell_type": "code",
      "metadata": {
        "id": "B6rprAOPHJFc",
        "colab_type": "code",
        "colab": {}
      },
      "source": [
        "x = StandardScaler().fit_transform(x)\n",
        "x_train, x_test, y_train, y_test = train_test_split(x, y, test_size=0.2, random_state=1)\n",
        "x_train, x_valid, y_train, y_valid = train_test_split(x_train, y_train, test_size=0.25, random_state=1) # 0.25 x 0.8 = 0.2\n",
        "y_train = to_categorical(y_train)\n",
        "y_valid = to_categorical(y_valid)\n",
        "y_test = to_categorical(y_test)\n",
        "x_train  = np.array(x_train).reshape(x_train.shape[0], x_train.shape[1],1)\n",
        "x_valid  = np.array(x_valid).reshape(x_valid.shape[0], x_valid.shape[1],1)\n",
        "x_test  = np.array(x_test).reshape(x_test.shape[0], x_test.shape[1],1)"
      ],
      "execution_count": 0,
      "outputs": []
    },
    {
      "cell_type": "code",
      "metadata": {
        "id": "itlQDwD_HL3N",
        "colab_type": "code",
        "colab": {
          "base_uri": "https://localhost:8080/",
          "height": 443
        },
        "outputId": "e32da9fb-3155-4aa6-b2c8-bd9e4beaabe4"
      },
      "source": [
        "model = Sequential()\n",
        "model.add(LSTM(512,input_shape = (nb_features,1)))\n",
        "model.add(Activation(\"relu\"))\n",
        "model.add(BatchNormalization())\n",
        "model.add(Flatten())\n",
        "model.add(Dropout(0.15))\n",
        "model.add(Dense(2048, activation = \"relu\"))\n",
        "model.add(Dense(1024, activation = \"relu\"))\n",
        "model.add(Dense(nb_classes, activation=\"softmax\"))\n",
        "model.summary()"
      ],
      "execution_count": 17,
      "outputs": [
        {
          "output_type": "stream",
          "text": [
            "Model: \"sequential_2\"\n",
            "_________________________________________________________________\n",
            "Layer (type)                 Output Shape              Param #   \n",
            "=================================================================\n",
            "lstm_2 (LSTM)                (None, 512)               1052672   \n",
            "_________________________________________________________________\n",
            "activation_2 (Activation)    (None, 512)               0         \n",
            "_________________________________________________________________\n",
            "batch_normalization_2 (Batch (None, 512)               2048      \n",
            "_________________________________________________________________\n",
            "flatten_2 (Flatten)          (None, 512)               0         \n",
            "_________________________________________________________________\n",
            "dropout_2 (Dropout)          (None, 512)               0         \n",
            "_________________________________________________________________\n",
            "dense_6 (Dense)              (None, 2048)              1050624   \n",
            "_________________________________________________________________\n",
            "dense_7 (Dense)              (None, 1024)              2098176   \n",
            "_________________________________________________________________\n",
            "dense_8 (Dense)              (None, 3)                 3075      \n",
            "=================================================================\n",
            "Total params: 4,206,595\n",
            "Trainable params: 4,205,571\n",
            "Non-trainable params: 1,024\n",
            "_________________________________________________________________\n"
          ],
          "name": "stdout"
        }
      ]
    },
    {
      "cell_type": "code",
      "metadata": {
        "id": "R3kBD6YeHNGF",
        "colab_type": "code",
        "colab": {
          "base_uri": "https://localhost:8080/",
          "height": 1000
        },
        "outputId": "b39a8c04-e9c7-468d-b1bc-1537a6d9884f"
      },
      "source": [
        "model.compile(optimizer='adam', loss='categorical_crossentropy', metrics=['acc'])\n",
        "score = model.fit(x_train, y_train, epochs = 50, validation_data=(x_valid,y_valid))\n"
      ],
      "execution_count": 18,
      "outputs": [
        {
          "output_type": "stream",
          "text": [
            "Epoch 1/50\n",
            "404/404 [==============================] - 3s 7ms/step - loss: 1.0552 - acc: 0.4421 - val_loss: 1.0620 - val_acc: 0.4582\n",
            "Epoch 2/50\n",
            "404/404 [==============================] - 3s 6ms/step - loss: 1.0190 - acc: 0.4688 - val_loss: 0.9766 - val_acc: 0.5091\n",
            "Epoch 3/50\n",
            "404/404 [==============================] - 2s 6ms/step - loss: 0.9954 - acc: 0.4961 - val_loss: 0.9898 - val_acc: 0.4826\n",
            "Epoch 4/50\n",
            "404/404 [==============================] - 3s 6ms/step - loss: 0.9782 - acc: 0.5063 - val_loss: 0.9664 - val_acc: 0.5091\n",
            "Epoch 5/50\n",
            "404/404 [==============================] - 3s 6ms/step - loss: 0.9547 - acc: 0.5310 - val_loss: 0.9284 - val_acc: 0.5309\n",
            "Epoch 6/50\n",
            "404/404 [==============================] - 3s 6ms/step - loss: 0.9141 - acc: 0.5528 - val_loss: 0.8992 - val_acc: 0.5673\n",
            "Epoch 7/50\n",
            "404/404 [==============================] - 3s 6ms/step - loss: 0.8752 - acc: 0.5802 - val_loss: 0.8324 - val_acc: 0.6043\n",
            "Epoch 8/50\n",
            "404/404 [==============================] - 3s 6ms/step - loss: 0.8287 - acc: 0.6142 - val_loss: 0.8223 - val_acc: 0.6092\n",
            "Epoch 9/50\n",
            "404/404 [==============================] - 3s 6ms/step - loss: 0.7762 - acc: 0.6461 - val_loss: 0.7820 - val_acc: 0.6421\n",
            "Epoch 10/50\n",
            "404/404 [==============================] - 3s 6ms/step - loss: 0.7315 - acc: 0.6737 - val_loss: 0.8735 - val_acc: 0.6089\n",
            "Epoch 11/50\n",
            "404/404 [==============================] - 3s 7ms/step - loss: 0.6939 - acc: 0.6986 - val_loss: 0.6647 - val_acc: 0.7048\n",
            "Epoch 12/50\n",
            "404/404 [==============================] - 3s 7ms/step - loss: 0.6444 - acc: 0.7221 - val_loss: 0.6273 - val_acc: 0.7285\n",
            "Epoch 13/50\n",
            "404/404 [==============================] - 3s 6ms/step - loss: 0.6167 - acc: 0.7381 - val_loss: 0.6186 - val_acc: 0.7364\n",
            "Epoch 14/50\n",
            "404/404 [==============================] - 3s 6ms/step - loss: 0.5776 - acc: 0.7562 - val_loss: 0.6964 - val_acc: 0.7013\n",
            "Epoch 15/50\n",
            "404/404 [==============================] - 2s 6ms/step - loss: 0.5500 - acc: 0.7682 - val_loss: 0.5542 - val_acc: 0.7668\n",
            "Epoch 16/50\n",
            "404/404 [==============================] - 2s 6ms/step - loss: 0.5188 - acc: 0.7839 - val_loss: 0.4879 - val_acc: 0.7973\n",
            "Epoch 17/50\n",
            "404/404 [==============================] - 2s 6ms/step - loss: 0.4983 - acc: 0.7908 - val_loss: 0.5827 - val_acc: 0.7666\n",
            "Epoch 18/50\n",
            "404/404 [==============================] - 3s 6ms/step - loss: 0.4740 - acc: 0.8033 - val_loss: 0.4742 - val_acc: 0.8019\n",
            "Epoch 19/50\n",
            "404/404 [==============================] - 3s 7ms/step - loss: 0.4507 - acc: 0.8138 - val_loss: 0.4713 - val_acc: 0.8128\n",
            "Epoch 20/50\n",
            "404/404 [==============================] - 3s 6ms/step - loss: 0.4330 - acc: 0.8241 - val_loss: 0.4756 - val_acc: 0.8070\n",
            "Epoch 21/50\n",
            "404/404 [==============================] - 3s 7ms/step - loss: 0.4102 - acc: 0.8374 - val_loss: 0.4508 - val_acc: 0.8247\n",
            "Epoch 22/50\n",
            "404/404 [==============================] - 3s 6ms/step - loss: 0.3859 - acc: 0.8429 - val_loss: 0.5223 - val_acc: 0.7894\n",
            "Epoch 23/50\n",
            "404/404 [==============================] - 3s 6ms/step - loss: 0.3750 - acc: 0.8488 - val_loss: 0.4484 - val_acc: 0.8226\n",
            "Epoch 24/50\n",
            "404/404 [==============================] - 3s 6ms/step - loss: 0.3675 - acc: 0.8518 - val_loss: 0.4656 - val_acc: 0.8186\n",
            "Epoch 25/50\n",
            "404/404 [==============================] - 3s 6ms/step - loss: 0.3392 - acc: 0.8644 - val_loss: 0.3880 - val_acc: 0.8479\n",
            "Epoch 26/50\n",
            "404/404 [==============================] - 3s 6ms/step - loss: 0.3234 - acc: 0.8711 - val_loss: 0.3779 - val_acc: 0.8565\n",
            "Epoch 27/50\n",
            "404/404 [==============================] - 3s 6ms/step - loss: 0.3090 - acc: 0.8760 - val_loss: 0.4146 - val_acc: 0.8493\n",
            "Epoch 28/50\n",
            "404/404 [==============================] - 2s 6ms/step - loss: 0.2972 - acc: 0.8822 - val_loss: 0.4358 - val_acc: 0.8381\n",
            "Epoch 29/50\n",
            "404/404 [==============================] - 3s 6ms/step - loss: 0.2906 - acc: 0.8852 - val_loss: 0.3748 - val_acc: 0.8590\n",
            "Epoch 30/50\n",
            "404/404 [==============================] - 3s 6ms/step - loss: 0.2685 - acc: 0.8922 - val_loss: 0.3830 - val_acc: 0.8588\n",
            "Epoch 31/50\n",
            "404/404 [==============================] - 2s 6ms/step - loss: 0.2595 - acc: 0.8985 - val_loss: 0.3972 - val_acc: 0.8676\n",
            "Epoch 32/50\n",
            "404/404 [==============================] - 3s 6ms/step - loss: 0.2493 - acc: 0.9039 - val_loss: 0.4548 - val_acc: 0.8328\n",
            "Epoch 33/50\n",
            "404/404 [==============================] - 2s 6ms/step - loss: 0.2468 - acc: 0.9043 - val_loss: 0.3448 - val_acc: 0.8825\n",
            "Epoch 34/50\n",
            "404/404 [==============================] - 3s 6ms/step - loss: 0.2291 - acc: 0.9098 - val_loss: 0.3808 - val_acc: 0.8746\n",
            "Epoch 35/50\n",
            "404/404 [==============================] - 3s 6ms/step - loss: 0.2257 - acc: 0.9121 - val_loss: 0.3841 - val_acc: 0.8730\n",
            "Epoch 36/50\n",
            "404/404 [==============================] - 3s 6ms/step - loss: 0.2137 - acc: 0.9168 - val_loss: 0.3641 - val_acc: 0.8799\n",
            "Epoch 37/50\n",
            "404/404 [==============================] - 3s 6ms/step - loss: 0.1994 - acc: 0.9227 - val_loss: 0.4394 - val_acc: 0.8595\n",
            "Epoch 38/50\n",
            "404/404 [==============================] - 3s 6ms/step - loss: 0.1997 - acc: 0.9229 - val_loss: 0.3748 - val_acc: 0.8737\n",
            "Epoch 39/50\n",
            "404/404 [==============================] - 3s 6ms/step - loss: 0.1939 - acc: 0.9262 - val_loss: 0.4076 - val_acc: 0.8837\n",
            "Epoch 40/50\n",
            "404/404 [==============================] - 3s 6ms/step - loss: 0.1901 - acc: 0.9266 - val_loss: 0.4147 - val_acc: 0.8709\n",
            "Epoch 41/50\n",
            "404/404 [==============================] - 3s 6ms/step - loss: 0.1850 - acc: 0.9278 - val_loss: 0.3997 - val_acc: 0.8818\n",
            "Epoch 42/50\n",
            "404/404 [==============================] - 3s 6ms/step - loss: 0.1731 - acc: 0.9337 - val_loss: 0.3807 - val_acc: 0.8830\n",
            "Epoch 43/50\n",
            "404/404 [==============================] - 2s 6ms/step - loss: 0.1660 - acc: 0.9361 - val_loss: 0.3735 - val_acc: 0.8837\n",
            "Epoch 44/50\n",
            "404/404 [==============================] - 3s 6ms/step - loss: 0.1586 - acc: 0.9392 - val_loss: 0.3890 - val_acc: 0.8871\n",
            "Epoch 45/50\n",
            "404/404 [==============================] - 3s 6ms/step - loss: 0.1624 - acc: 0.9399 - val_loss: 0.3678 - val_acc: 0.8869\n",
            "Epoch 46/50\n",
            "404/404 [==============================] - 2s 6ms/step - loss: 0.1484 - acc: 0.9440 - val_loss: 0.3872 - val_acc: 0.8913\n",
            "Epoch 47/50\n",
            "404/404 [==============================] - 2s 6ms/step - loss: 0.1514 - acc: 0.9404 - val_loss: 0.4118 - val_acc: 0.8751\n",
            "Epoch 48/50\n",
            "404/404 [==============================] - 3s 7ms/step - loss: 0.1398 - acc: 0.9457 - val_loss: 0.4298 - val_acc: 0.8839\n",
            "Epoch 49/50\n",
            "404/404 [==============================] - 3s 6ms/step - loss: 0.1393 - acc: 0.9486 - val_loss: 0.3971 - val_acc: 0.8867\n",
            "Epoch 50/50\n",
            "404/404 [==============================] - 2s 6ms/step - loss: 0.1403 - acc: 0.9467 - val_loss: 0.4487 - val_acc: 0.8790\n"
          ],
          "name": "stdout"
        }
      ]
    },
    {
      "cell_type": "code",
      "metadata": {
        "id": "hDd6KwXJBys7",
        "colab_type": "code",
        "colab": {
          "base_uri": "https://localhost:8080/",
          "height": 34
        },
        "outputId": "5d5fdacf-f00e-4634-a7a3-9d24711c545e"
      },
      "source": [
        "results = model.evaluate(x_test, y_test, batch_size=128)"
      ],
      "execution_count": 20,
      "outputs": [
        {
          "output_type": "stream",
          "text": [
            "34/34 [==============================] - 0s 6ms/step - loss: 0.4705 - acc: 0.8767\n"
          ],
          "name": "stdout"
        }
      ]
    },
    {
      "cell_type": "code",
      "metadata": {
        "id": "hgtZJc8SHOmR",
        "colab_type": "code",
        "colab": {
          "base_uri": "https://localhost:8080/",
          "height": 294
        },
        "outputId": "00dabea7-64a7-4c2f-9a6c-bc522b4edbb6"
      },
      "source": [
        "plt.plot(model.history.history[\"acc\"])\n",
        "plt.plot(model.history.history[\"val_acc\"])\n",
        "plt.title(\"Model Başarımları\")\n",
        "plt.ylabel(\"Başarım\")\n",
        "plt.xlabel(\"Epok Sayısı\")\n",
        "plt.legend([\"Eğitim\",\"Test\"], loc=\"upper left\")\n",
        "plt.show()\n"
      ],
      "execution_count": 11,
      "outputs": [
        {
          "output_type": "display_data",
          "data": {
            "image/png": "[encoded data removed]",
            "text/plain": [
              "<Figure size 432x288 with 1 Axes>"
            ]
          },
          "metadata": {
            "tags": [],
            "needs_background": "light"
          }
        }
      ]
    },
    {
      "cell_type": "code",
      "metadata": {
        "id": "NeXgkrBiHQI4",
        "colab_type": "code",
        "colab": {
          "base_uri": "https://localhost:8080/",
          "height": 294
        },
        "outputId": "88f695f7-7845-45c2-c265-5b69b81dae05"
      },
      "source": [
        "plt.plot(model.history.history[\"loss\"])\n",
        "plt.plot(model.history.history[\"val_loss\"])\n",
        "plt.title(\"Model Kayıpları\")\n",
        "plt.ylabel(\"Kayıp\")\n",
        "plt.xlabel(\"Epok Sayısı\")\n",
        "plt.legend([\"Eğitim\",\"Test\"], loc=\"upper left\")\n",
        "plt.show()"
      ],
      "execution_count": 12,
      "outputs": [
        {
          "output_type": "display_data",
          "data": {
            "image/png": "[encoded data removed]",
            "text/plain": [
              "<Figure size 432x288 with 1 Axes>"
            ]
          },
          "metadata": {
            "tags": [],
            "needs_background": "light"
          }
        }
      ]
    },
    {
      "cell_type": "code",
      "metadata": {
        "id": "QpvRCNQCCKY6",
        "colab_type": "code",
        "colab": {
          "base_uri": "https://localhost:8080/",
          "height": 107
        },
        "outputId": "2ec11779-ef96-4750-e2dc-78e77f20e596"
      },
      "source": [
        "model.save('path/to/location')"
      ],
      "execution_count": 21,
      "outputs": [
        {
          "output_type": "stream",
          "text": [
            "WARNING:tensorflow:From /usr/local/lib/python3.6/dist-packages/tensorflow/python/ops/resource_variable_ops.py:1817: calling BaseResourceVariable.__init__ (from tensorflow.python.ops.resource_variable_ops) with constraint is deprecated and will be removed in a future version.\n",
            "Instructions for updating:\n",
            "If using Keras pass *_constraint arguments to layers.\n",
            "INFO:tensorflow:Assets written to: saved_model/my_model/assets\n"
          ],
          "name": "stdout"
        }
      ]
    }
  ]
}