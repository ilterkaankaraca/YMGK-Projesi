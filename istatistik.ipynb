{
 "cells": [
  {
   "cell_type": "code",
   "execution_count": 2,
   "metadata": {},
   "outputs": [],
   "source": [
    "## Kritik Seviyeler#\n",
    "## PM10: 50 µg/m3 ##  \n",
    "## PM25: 25 µg/m3 ##  \n",
    "## SO2: 125 µg/m3 ##  \n",
    "## CO: 10 mg/m3   ##  \n",
    "## NO2: 200 µg/m3 ##  \n",
    "## NOX: 30 µg/m3  ##  \n",
    "####################\n",
    "\n",
    "import pandas as pd\n",
    "import matplotlib.pyplot as plt\n",
    "df=pd.read_csv(\"veri_seti/veri_seti(temizlenmis).csv\", sep=';', encoding = 'utf8')"
   ]
  },
  {
   "cell_type": "code",
   "execution_count": null,
   "metadata": {},
   "outputs": [],
   "source": []
  }
 ],
 "metadata": {
  "language_info": {
   "codemirror_mode": {
    "name": "ipython",
    "version": 3
   },
   "file_extension": ".py",
   "mimetype": "text/x-python",
   "name": "python",
   "nbconvert_exporter": "python",
   "pygments_lexer": "ipython3",
   "version": "3.7.7-final"
  },
  "orig_nbformat": 2,
  "kernelspec": {
   "name": "python3",
   "display_name": "Python 3"
  }
 },
 "nbformat": 4,
 "nbformat_minor": 2
}